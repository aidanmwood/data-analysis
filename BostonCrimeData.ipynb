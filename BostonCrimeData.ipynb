{
  "nbformat": 4,
  "nbformat_minor": 0,
  "metadata": {
    "colab": {
      "provenance": [],
      "toc_visible": true,
      "mount_file_id": "1yYia0_Wjvx4tPeI9zxtbD8Qi9XRIiRLT",
      "authorship_tag": "ABX9TyOMcskrz1xtC1BddSLRaixz",
      "include_colab_link": true
    },
    "kernelspec": {
      "name": "python3",
      "display_name": "Python 3"
    },
    "language_info": {
      "name": "python"
    }
  },
  "cells": [
    {
      "cell_type": "markdown",
      "metadata": {
        "id": "view-in-github",
        "colab_type": "text"
      },
      "source": [
        "<a href=\"https://colab.research.google.com/github/aidanmwood/data-analysis/blob/main/BostonCrimeData.ipynb\" target=\"_parent\"><img src=\"https://colab.research.google.com/assets/colab-badge.svg\" alt=\"Open In Colab\"/></a>"
      ]
    },
    {
      "cell_type": "markdown",
      "source": [
        "#Imports"
      ],
      "metadata": {
        "id": "AOLzbz8n8VrN"
      }
    },
    {
      "cell_type": "code",
      "execution_count": 46,
      "metadata": {
        "id": "VxH_kCmyFZVI"
      },
      "outputs": [],
      "source": [
        "import pandas as pd\n",
        "import matplotlib.pyplot as plt\n",
        "from google.colab import drive "
      ]
    },
    {
      "cell_type": "markdown",
      "source": [
        "#Load Data"
      ],
      "metadata": {
        "id": "n-9O-VOY8Ypj"
      }
    },
    {
      "cell_type": "markdown",
      "source": [
        "##Mount Drive"
      ],
      "metadata": {
        "id": "1dM6Y_rj8lKy"
      }
    },
    {
      "cell_type": "code",
      "source": [
        "drive.mount('/content/drive')"
      ],
      "metadata": {
        "colab": {
          "base_uri": "https://localhost:8080/"
        },
        "id": "44rrSnd6FfXN",
        "outputId": "2ccdd0e1-61b5-43a6-b960-d636faf3d024"
      },
      "execution_count": 47,
      "outputs": [
        {
          "output_type": "stream",
          "name": "stdout",
          "text": [
            "Drive already mounted at /content/drive; to attempt to forcibly remount, call drive.mount(\"/content/drive\", force_remount=True).\n"
          ]
        }
      ]
    },
    {
      "cell_type": "markdown",
      "source": [
        "##Find Directory"
      ],
      "metadata": {
        "id": "FWaK9UfJ8hmz"
      }
    },
    {
      "cell_type": "code",
      "source": [
        "%cd /content/drive/MyDrive/Colab Notebooks/"
      ],
      "metadata": {
        "colab": {
          "base_uri": "https://localhost:8080/"
        },
        "id": "afTcWWvBFnzc",
        "outputId": "0c324c93-1ab9-4984-f216-2f90fa2b7572"
      },
      "execution_count": 48,
      "outputs": [
        {
          "output_type": "stream",
          "name": "stdout",
          "text": [
            "/content/drive/MyDrive/Colab Notebooks\n"
          ]
        }
      ]
    },
    {
      "cell_type": "markdown",
      "source": [
        "##Load File"
      ],
      "metadata": {
        "id": "8UKaAwpC8tFi"
      }
    },
    {
      "cell_type": "code",
      "source": [
        "crime_df = pd.read_csv('crime.csv', encoding='latin1')\n",
        "\n",
        "crime_df"
      ],
      "metadata": {
        "colab": {
          "base_uri": "https://localhost:8080/",
          "height": 748
        },
        "id": "vjO-rHjPGGb2",
        "outputId": "b51766ff-c2f5-4035-a0c6-1a7c2dea9bfc"
      },
      "execution_count": 49,
      "outputs": [
        {
          "output_type": "stream",
          "name": "stderr",
          "text": [
            "<ipython-input-49-e7c6825820d1>:1: DtypeWarning: Columns (6) have mixed types. Specify dtype option on import or set low_memory=False.\n",
            "  crime_df = pd.read_csv('crime.csv', encoding='latin1')\n"
          ]
        },
        {
          "output_type": "execute_result",
          "data": {
            "text/plain": [
              "       INCIDENT_NUMBER  OFFENSE_CODE  OFFENSE_CODE_GROUP  \\\n",
              "0           I182080058          2403  Disorderly Conduct   \n",
              "1           I182080053          3201       Property Lost   \n",
              "2           I182080052          2647               Other   \n",
              "3           I182080051           413  Aggravated Assault   \n",
              "4           I182080050          3122            Aircraft   \n",
              "...                ...           ...                 ...   \n",
              "327815   I050310906-00          3125     Warrant Arrests   \n",
              "327816   I030217815-08           111            Homicide   \n",
              "327817   I030217815-08          3125     Warrant Arrests   \n",
              "327818   I010370257-00          3125     Warrant Arrests   \n",
              "327819       142052550          3125     Warrant Arrests   \n",
              "\n",
              "                        OFFENSE_DESCRIPTION DISTRICT REPORTING_AREA SHOOTING  \\\n",
              "0                      DISTURBING THE PEACE      E18            495      NaN   \n",
              "1                           PROPERTY - LOST      D14            795      NaN   \n",
              "2                 THREATS TO DO BODILY HARM       B2            329      NaN   \n",
              "3            ASSAULT - AGGRAVATED - BATTERY       A1             92      NaN   \n",
              "4                        AIRCRAFT INCIDENTS       A7             36      NaN   \n",
              "...                                     ...      ...            ...      ...   \n",
              "327815                       WARRANT ARREST       D4            285      NaN   \n",
              "327816  MURDER, NON-NEGLIGIENT MANSLAUGHTER      E18            520      NaN   \n",
              "327817                       WARRANT ARREST      E18            520      NaN   \n",
              "327818                       WARRANT ARREST      E13            569      NaN   \n",
              "327819                       WARRANT ARREST       D4            903      NaN   \n",
              "\n",
              "           OCCURRED_ON_DATE  YEAR  MONTH DAY_OF_WEEK  HOUR    UCR_PART  \\\n",
              "0       2018-10-03 20:13:00  2018     10   Wednesday    20    Part Two   \n",
              "1       2018-08-30 20:00:00  2018      8    Thursday    20  Part Three   \n",
              "2       2018-10-03 19:20:00  2018     10   Wednesday    19    Part Two   \n",
              "3       2018-10-03 20:00:00  2018     10   Wednesday    20    Part One   \n",
              "4       2018-10-03 20:49:00  2018     10   Wednesday    20  Part Three   \n",
              "...                     ...   ...    ...         ...   ...         ...   \n",
              "327815  2016-06-05 17:25:00  2016      6      Sunday    17  Part Three   \n",
              "327816  2015-07-09 13:38:00  2015      7    Thursday    13    Part One   \n",
              "327817  2015-07-09 13:38:00  2015      7    Thursday    13  Part Three   \n",
              "327818  2016-05-31 19:35:00  2016      5     Tuesday    19  Part Three   \n",
              "327819  2015-06-22 00:12:00  2015      6      Monday     0  Part Three   \n",
              "\n",
              "                   STREET        Lat       Long                     Location  \n",
              "0            ARLINGTON ST  42.262608 -71.121186  (42.26260773, -71.12118637)  \n",
              "1              ALLSTON ST  42.352111 -71.135311  (42.35211146, -71.13531147)  \n",
              "2                DEVON ST  42.308126 -71.076930  (42.30812619, -71.07692974)  \n",
              "3            CAMBRIDGE ST  42.359454 -71.059648  (42.35945371, -71.05964817)  \n",
              "4             PRESCOTT ST  42.375258 -71.024663  (42.37525782, -71.02466343)  \n",
              "...                   ...        ...        ...                          ...  \n",
              "327815        COVENTRY ST  42.336951 -71.085748  (42.33695098, -71.08574813)  \n",
              "327816           RIVER ST  42.255926 -71.123172  (42.25592648, -71.12317207)  \n",
              "327817           RIVER ST  42.255926 -71.123172  (42.25592648, -71.12317207)  \n",
              "327818  NEW WASHINGTON ST  42.302333 -71.111565  (42.30233307, -71.11156487)  \n",
              "327819      WASHINGTON ST  42.333839 -71.080290  (42.33383935, -71.08029038)  \n",
              "\n",
              "[327820 rows x 17 columns]"
            ],
            "text/html": [
              "\n",
              "  <div id=\"df-2786208d-5a46-4f80-9527-5532a62050e9\">\n",
              "    <div class=\"colab-df-container\">\n",
              "      <div>\n",
              "<style scoped>\n",
              "    .dataframe tbody tr th:only-of-type {\n",
              "        vertical-align: middle;\n",
              "    }\n",
              "\n",
              "    .dataframe tbody tr th {\n",
              "        vertical-align: top;\n",
              "    }\n",
              "\n",
              "    .dataframe thead th {\n",
              "        text-align: right;\n",
              "    }\n",
              "</style>\n",
              "<table border=\"1\" class=\"dataframe\">\n",
              "  <thead>\n",
              "    <tr style=\"text-align: right;\">\n",
              "      <th></th>\n",
              "      <th>INCIDENT_NUMBER</th>\n",
              "      <th>OFFENSE_CODE</th>\n",
              "      <th>OFFENSE_CODE_GROUP</th>\n",
              "      <th>OFFENSE_DESCRIPTION</th>\n",
              "      <th>DISTRICT</th>\n",
              "      <th>REPORTING_AREA</th>\n",
              "      <th>SHOOTING</th>\n",
              "      <th>OCCURRED_ON_DATE</th>\n",
              "      <th>YEAR</th>\n",
              "      <th>MONTH</th>\n",
              "      <th>DAY_OF_WEEK</th>\n",
              "      <th>HOUR</th>\n",
              "      <th>UCR_PART</th>\n",
              "      <th>STREET</th>\n",
              "      <th>Lat</th>\n",
              "      <th>Long</th>\n",
              "      <th>Location</th>\n",
              "    </tr>\n",
              "  </thead>\n",
              "  <tbody>\n",
              "    <tr>\n",
              "      <th>0</th>\n",
              "      <td>I182080058</td>\n",
              "      <td>2403</td>\n",
              "      <td>Disorderly Conduct</td>\n",
              "      <td>DISTURBING THE PEACE</td>\n",
              "      <td>E18</td>\n",
              "      <td>495</td>\n",
              "      <td>NaN</td>\n",
              "      <td>2018-10-03 20:13:00</td>\n",
              "      <td>2018</td>\n",
              "      <td>10</td>\n",
              "      <td>Wednesday</td>\n",
              "      <td>20</td>\n",
              "      <td>Part Two</td>\n",
              "      <td>ARLINGTON ST</td>\n",
              "      <td>42.262608</td>\n",
              "      <td>-71.121186</td>\n",
              "      <td>(42.26260773, -71.12118637)</td>\n",
              "    </tr>\n",
              "    <tr>\n",
              "      <th>1</th>\n",
              "      <td>I182080053</td>\n",
              "      <td>3201</td>\n",
              "      <td>Property Lost</td>\n",
              "      <td>PROPERTY - LOST</td>\n",
              "      <td>D14</td>\n",
              "      <td>795</td>\n",
              "      <td>NaN</td>\n",
              "      <td>2018-08-30 20:00:00</td>\n",
              "      <td>2018</td>\n",
              "      <td>8</td>\n",
              "      <td>Thursday</td>\n",
              "      <td>20</td>\n",
              "      <td>Part Three</td>\n",
              "      <td>ALLSTON ST</td>\n",
              "      <td>42.352111</td>\n",
              "      <td>-71.135311</td>\n",
              "      <td>(42.35211146, -71.13531147)</td>\n",
              "    </tr>\n",
              "    <tr>\n",
              "      <th>2</th>\n",
              "      <td>I182080052</td>\n",
              "      <td>2647</td>\n",
              "      <td>Other</td>\n",
              "      <td>THREATS TO DO BODILY HARM</td>\n",
              "      <td>B2</td>\n",
              "      <td>329</td>\n",
              "      <td>NaN</td>\n",
              "      <td>2018-10-03 19:20:00</td>\n",
              "      <td>2018</td>\n",
              "      <td>10</td>\n",
              "      <td>Wednesday</td>\n",
              "      <td>19</td>\n",
              "      <td>Part Two</td>\n",
              "      <td>DEVON ST</td>\n",
              "      <td>42.308126</td>\n",
              "      <td>-71.076930</td>\n",
              "      <td>(42.30812619, -71.07692974)</td>\n",
              "    </tr>\n",
              "    <tr>\n",
              "      <th>3</th>\n",
              "      <td>I182080051</td>\n",
              "      <td>413</td>\n",
              "      <td>Aggravated Assault</td>\n",
              "      <td>ASSAULT - AGGRAVATED - BATTERY</td>\n",
              "      <td>A1</td>\n",
              "      <td>92</td>\n",
              "      <td>NaN</td>\n",
              "      <td>2018-10-03 20:00:00</td>\n",
              "      <td>2018</td>\n",
              "      <td>10</td>\n",
              "      <td>Wednesday</td>\n",
              "      <td>20</td>\n",
              "      <td>Part One</td>\n",
              "      <td>CAMBRIDGE ST</td>\n",
              "      <td>42.359454</td>\n",
              "      <td>-71.059648</td>\n",
              "      <td>(42.35945371, -71.05964817)</td>\n",
              "    </tr>\n",
              "    <tr>\n",
              "      <th>4</th>\n",
              "      <td>I182080050</td>\n",
              "      <td>3122</td>\n",
              "      <td>Aircraft</td>\n",
              "      <td>AIRCRAFT INCIDENTS</td>\n",
              "      <td>A7</td>\n",
              "      <td>36</td>\n",
              "      <td>NaN</td>\n",
              "      <td>2018-10-03 20:49:00</td>\n",
              "      <td>2018</td>\n",
              "      <td>10</td>\n",
              "      <td>Wednesday</td>\n",
              "      <td>20</td>\n",
              "      <td>Part Three</td>\n",
              "      <td>PRESCOTT ST</td>\n",
              "      <td>42.375258</td>\n",
              "      <td>-71.024663</td>\n",
              "      <td>(42.37525782, -71.02466343)</td>\n",
              "    </tr>\n",
              "    <tr>\n",
              "      <th>...</th>\n",
              "      <td>...</td>\n",
              "      <td>...</td>\n",
              "      <td>...</td>\n",
              "      <td>...</td>\n",
              "      <td>...</td>\n",
              "      <td>...</td>\n",
              "      <td>...</td>\n",
              "      <td>...</td>\n",
              "      <td>...</td>\n",
              "      <td>...</td>\n",
              "      <td>...</td>\n",
              "      <td>...</td>\n",
              "      <td>...</td>\n",
              "      <td>...</td>\n",
              "      <td>...</td>\n",
              "      <td>...</td>\n",
              "      <td>...</td>\n",
              "    </tr>\n",
              "    <tr>\n",
              "      <th>327815</th>\n",
              "      <td>I050310906-00</td>\n",
              "      <td>3125</td>\n",
              "      <td>Warrant Arrests</td>\n",
              "      <td>WARRANT ARREST</td>\n",
              "      <td>D4</td>\n",
              "      <td>285</td>\n",
              "      <td>NaN</td>\n",
              "      <td>2016-06-05 17:25:00</td>\n",
              "      <td>2016</td>\n",
              "      <td>6</td>\n",
              "      <td>Sunday</td>\n",
              "      <td>17</td>\n",
              "      <td>Part Three</td>\n",
              "      <td>COVENTRY ST</td>\n",
              "      <td>42.336951</td>\n",
              "      <td>-71.085748</td>\n",
              "      <td>(42.33695098, -71.08574813)</td>\n",
              "    </tr>\n",
              "    <tr>\n",
              "      <th>327816</th>\n",
              "      <td>I030217815-08</td>\n",
              "      <td>111</td>\n",
              "      <td>Homicide</td>\n",
              "      <td>MURDER, NON-NEGLIGIENT MANSLAUGHTER</td>\n",
              "      <td>E18</td>\n",
              "      <td>520</td>\n",
              "      <td>NaN</td>\n",
              "      <td>2015-07-09 13:38:00</td>\n",
              "      <td>2015</td>\n",
              "      <td>7</td>\n",
              "      <td>Thursday</td>\n",
              "      <td>13</td>\n",
              "      <td>Part One</td>\n",
              "      <td>RIVER ST</td>\n",
              "      <td>42.255926</td>\n",
              "      <td>-71.123172</td>\n",
              "      <td>(42.25592648, -71.12317207)</td>\n",
              "    </tr>\n",
              "    <tr>\n",
              "      <th>327817</th>\n",
              "      <td>I030217815-08</td>\n",
              "      <td>3125</td>\n",
              "      <td>Warrant Arrests</td>\n",
              "      <td>WARRANT ARREST</td>\n",
              "      <td>E18</td>\n",
              "      <td>520</td>\n",
              "      <td>NaN</td>\n",
              "      <td>2015-07-09 13:38:00</td>\n",
              "      <td>2015</td>\n",
              "      <td>7</td>\n",
              "      <td>Thursday</td>\n",
              "      <td>13</td>\n",
              "      <td>Part Three</td>\n",
              "      <td>RIVER ST</td>\n",
              "      <td>42.255926</td>\n",
              "      <td>-71.123172</td>\n",
              "      <td>(42.25592648, -71.12317207)</td>\n",
              "    </tr>\n",
              "    <tr>\n",
              "      <th>327818</th>\n",
              "      <td>I010370257-00</td>\n",
              "      <td>3125</td>\n",
              "      <td>Warrant Arrests</td>\n",
              "      <td>WARRANT ARREST</td>\n",
              "      <td>E13</td>\n",
              "      <td>569</td>\n",
              "      <td>NaN</td>\n",
              "      <td>2016-05-31 19:35:00</td>\n",
              "      <td>2016</td>\n",
              "      <td>5</td>\n",
              "      <td>Tuesday</td>\n",
              "      <td>19</td>\n",
              "      <td>Part Three</td>\n",
              "      <td>NEW WASHINGTON ST</td>\n",
              "      <td>42.302333</td>\n",
              "      <td>-71.111565</td>\n",
              "      <td>(42.30233307, -71.11156487)</td>\n",
              "    </tr>\n",
              "    <tr>\n",
              "      <th>327819</th>\n",
              "      <td>142052550</td>\n",
              "      <td>3125</td>\n",
              "      <td>Warrant Arrests</td>\n",
              "      <td>WARRANT ARREST</td>\n",
              "      <td>D4</td>\n",
              "      <td>903</td>\n",
              "      <td>NaN</td>\n",
              "      <td>2015-06-22 00:12:00</td>\n",
              "      <td>2015</td>\n",
              "      <td>6</td>\n",
              "      <td>Monday</td>\n",
              "      <td>0</td>\n",
              "      <td>Part Three</td>\n",
              "      <td>WASHINGTON ST</td>\n",
              "      <td>42.333839</td>\n",
              "      <td>-71.080290</td>\n",
              "      <td>(42.33383935, -71.08029038)</td>\n",
              "    </tr>\n",
              "  </tbody>\n",
              "</table>\n",
              "<p>327820 rows × 17 columns</p>\n",
              "</div>\n",
              "      <button class=\"colab-df-convert\" onclick=\"convertToInteractive('df-2786208d-5a46-4f80-9527-5532a62050e9')\"\n",
              "              title=\"Convert this dataframe to an interactive table.\"\n",
              "              style=\"display:none;\">\n",
              "        \n",
              "  <svg xmlns=\"http://www.w3.org/2000/svg\" height=\"24px\"viewBox=\"0 0 24 24\"\n",
              "       width=\"24px\">\n",
              "    <path d=\"M0 0h24v24H0V0z\" fill=\"none\"/>\n",
              "    <path d=\"M18.56 5.44l.94 2.06.94-2.06 2.06-.94-2.06-.94-.94-2.06-.94 2.06-2.06.94zm-11 1L8.5 8.5l.94-2.06 2.06-.94-2.06-.94L8.5 2.5l-.94 2.06-2.06.94zm10 10l.94 2.06.94-2.06 2.06-.94-2.06-.94-.94-2.06-.94 2.06-2.06.94z\"/><path d=\"M17.41 7.96l-1.37-1.37c-.4-.4-.92-.59-1.43-.59-.52 0-1.04.2-1.43.59L10.3 9.45l-7.72 7.72c-.78.78-.78 2.05 0 2.83L4 21.41c.39.39.9.59 1.41.59.51 0 1.02-.2 1.41-.59l7.78-7.78 2.81-2.81c.8-.78.8-2.07 0-2.86zM5.41 20L4 18.59l7.72-7.72 1.47 1.35L5.41 20z\"/>\n",
              "  </svg>\n",
              "      </button>\n",
              "      \n",
              "  <style>\n",
              "    .colab-df-container {\n",
              "      display:flex;\n",
              "      flex-wrap:wrap;\n",
              "      gap: 12px;\n",
              "    }\n",
              "\n",
              "    .colab-df-convert {\n",
              "      background-color: #E8F0FE;\n",
              "      border: none;\n",
              "      border-radius: 50%;\n",
              "      cursor: pointer;\n",
              "      display: none;\n",
              "      fill: #1967D2;\n",
              "      height: 32px;\n",
              "      padding: 0 0 0 0;\n",
              "      width: 32px;\n",
              "    }\n",
              "\n",
              "    .colab-df-convert:hover {\n",
              "      background-color: #E2EBFA;\n",
              "      box-shadow: 0px 1px 2px rgba(60, 64, 67, 0.3), 0px 1px 3px 1px rgba(60, 64, 67, 0.15);\n",
              "      fill: #174EA6;\n",
              "    }\n",
              "\n",
              "    [theme=dark] .colab-df-convert {\n",
              "      background-color: #3B4455;\n",
              "      fill: #D2E3FC;\n",
              "    }\n",
              "\n",
              "    [theme=dark] .colab-df-convert:hover {\n",
              "      background-color: #434B5C;\n",
              "      box-shadow: 0px 1px 3px 1px rgba(0, 0, 0, 0.15);\n",
              "      filter: drop-shadow(0px 1px 2px rgba(0, 0, 0, 0.3));\n",
              "      fill: #FFFFFF;\n",
              "    }\n",
              "  </style>\n",
              "\n",
              "      <script>\n",
              "        const buttonEl =\n",
              "          document.querySelector('#df-2786208d-5a46-4f80-9527-5532a62050e9 button.colab-df-convert');\n",
              "        buttonEl.style.display =\n",
              "          google.colab.kernel.accessAllowed ? 'block' : 'none';\n",
              "\n",
              "        async function convertToInteractive(key) {\n",
              "          const element = document.querySelector('#df-2786208d-5a46-4f80-9527-5532a62050e9');\n",
              "          const dataTable =\n",
              "            await google.colab.kernel.invokeFunction('convertToInteractive',\n",
              "                                                     [key], {});\n",
              "          if (!dataTable) return;\n",
              "\n",
              "          const docLinkHtml = 'Like what you see? Visit the ' +\n",
              "            '<a target=\"_blank\" href=https://colab.research.google.com/notebooks/data_table.ipynb>data table notebook</a>'\n",
              "            + ' to learn more about interactive tables.';\n",
              "          element.innerHTML = '';\n",
              "          dataTable['output_type'] = 'display_data';\n",
              "          await google.colab.output.renderOutput(dataTable, element);\n",
              "          const docLink = document.createElement('div');\n",
              "          docLink.innerHTML = docLinkHtml;\n",
              "          element.appendChild(docLink);\n",
              "        }\n",
              "      </script>\n",
              "    </div>\n",
              "  </div>\n",
              "  "
            ]
          },
          "metadata": {},
          "execution_count": 49
        }
      ]
    },
    {
      "cell_type": "markdown",
      "source": [
        "#Crimes Per Day"
      ],
      "metadata": {
        "id": "75Z1jZU78xwi"
      }
    },
    {
      "cell_type": "code",
      "source": [
        "def daily_crime_graph(year, month):\n",
        "  test = crime_df.groupby(['YEAR','MONTH', 'DAY_OF_WEEK'])\n",
        "  test2 = crime_df.groupby(['YEAR', 'MONTH'])\n",
        "\n",
        "  days = ['Monday', 'Tuesday', 'Wednesday', 'Thursday', 'Friday', 'Saturday', 'Sunday']\n",
        "  crimes_per_day = []\n",
        "\n",
        "  for day in days:\n",
        "    total_crimes = len(test2.get_group((year, month)))\n",
        "    crimes = len(test.get_group((year, month, day)))\n",
        "\n",
        "    crimes_per_day.append(crimes)\n",
        "\n",
        "  month_word = ['Jan', 'Feb', 'March', 'Apr', 'May', 'June', 'July', 'Aug', 'Sept', 'Oct', 'Nov', 'Dec']\n",
        "\n",
        "  plt.bar(days, crimes_per_day, linewidth=0)\n",
        "  plt.xticks(rotation=45)\n",
        "  plt.title(f'Crimes Per Day for {month_word[month]} (Total: {total_crimes})')\n",
        "  plt.ylabel('Number of Crimes')\n",
        "  plt.xlabel('Day of the Week')\n",
        "  plt.show()\n",
        "\n",
        "daily_crime_graph(2018, 2)"
      ],
      "metadata": {
        "colab": {
          "base_uri": "https://localhost:8080/",
          "height": 525
        },
        "id": "HKYHMWy-VI-z",
        "outputId": "5f2b0dbb-7373-4fa5-dfac-98fab6f9cc70"
      },
      "execution_count": 50,
      "outputs": [
        {
          "output_type": "display_data",
          "data": {
            "text/plain": [
              "<Figure size 640x480 with 1 Axes>"
            ],
            "image/png": "[encoded data removed]"
          },
          "metadata": {}
        }
      ]
    },
    {
      "cell_type": "markdown",
      "source": [
        "#Crimes Per Month"
      ],
      "metadata": {
        "id": "ZWiJzAXz82Xq"
      }
    },
    {
      "cell_type": "code",
      "source": [
        "def monthly_crime_graph(year):\n",
        "  group = crime_df.groupby(['YEAR', 'MONTH'])\n",
        "  year_df = crime_df.groupby('YEAR')\n",
        "  month_list = year_df.get_group(year)\n",
        "  \n",
        "  months = []\n",
        "  month_label = ['Jan', 'Feb', 'March', 'Apr', 'May', 'June', 'July', 'Aug', 'Sept', 'Oct', 'Nov', 'Dec']\n",
        "\n",
        "  for month in range(min(month_list.MONTH), max(month_list.MONTH)+1):\n",
        "    crimes = len(group.get_group((year, month)))\n",
        "\n",
        "    months.append(crimes)\n",
        "\n",
        "  plt.bar(range(min(month_list.MONTH), max(month_list.MONTH)+1), months)\n",
        "  plt.ylabel('Crimes')\n",
        "  plt.xlabel('Month')\n",
        "  plt.title(f'Crimes per month for {year}')\n",
        "\n",
        "monthly_crime_graph(2017)"
      ],
      "metadata": {
        "id": "stUZNYxgdHjh",
        "colab": {
          "base_uri": "https://localhost:8080/",
          "height": 472
        },
        "outputId": "1735905c-54ed-43ff-993e-354c9de8eaa2"
      },
      "execution_count": 51,
      "outputs": [
        {
          "output_type": "display_data",
          "data": {
            "text/plain": [
              "<Figure size 640x480 with 1 Axes>"
            ],
            "image/png": "[encoded data removed]"
          },
          "metadata": {}
        }
      ]
    },
    {
      "cell_type": "markdown",
      "source": [
        "#Crimes Per Hour (per month)"
      ],
      "metadata": {
        "id": "I84gG0s1-r48"
      }
    },
    {
      "cell_type": "code",
      "source": [
        "def crimes_hour(month):\n",
        "  hour_sort = crime_df.groupby(['MONTH', 'HOUR'])\n",
        "\n",
        "  hours = []\n",
        "\n",
        "  for hour in range(0, 24):\n",
        "    hour_group = len(hour_sort.get_group((month, hour)))\n",
        "\n",
        "    hours.append(hour_group)\n",
        "\n",
        "  month_word = ['Jan', 'Feb', 'March', 'Apr', 'May', 'June', 'July', 'Aug', 'Sept', 'Oct', 'Nov', 'Dec']\n",
        "\n",
        "  plt.bar(range(0, 24), hours)\n",
        "  plt.ylabel('Crimes')\n",
        "  plt.xlabel('Hour')\n",
        "  plt.title(f'Number of crimes per hour in {month_word[month]}')\n",
        "\n",
        "crimes_hour(2)"
      ],
      "metadata": {
        "colab": {
          "base_uri": "https://localhost:8080/",
          "height": 472
        },
        "id": "ro-P1xGg-rj0",
        "outputId": "74dffd4a-5472-4ab0-fc1a-a33939f8e51d"
      },
      "execution_count": 52,
      "outputs": [
        {
          "output_type": "display_data",
          "data": {
            "text/plain": [
              "<Figure size 640x480 with 1 Axes>"
            ],
            "image/png": "[encoded data removed]"
          },
          "metadata": {}
        }
      ]
    }
  ]
}