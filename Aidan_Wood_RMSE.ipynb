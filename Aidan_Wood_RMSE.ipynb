{
  "nbformat": 4,
  "nbformat_minor": 0,
  "metadata": {
    "colab": {
      "provenance": [],
      "authorship_tag": "ABX9TyOjMIFv5KhB5jtjQtWjBTse",
      "include_colab_link": true
    },
    "kernelspec": {
      "name": "python3",
      "display_name": "Python 3"
    },
    "language_info": {
      "name": "python"
    }
  },
  "cells": [
    {
      "cell_type": "markdown",
      "metadata": {
        "id": "view-in-github",
        "colab_type": "text"
      },
      "source": [
        "<a href=\"https://colab.research.google.com/github/aidanmwood/data-analysis/blob/main/Aidan_Wood_RMSE.ipynb\" target=\"_parent\"><img src=\"https://colab.research.google.com/assets/colab-badge.svg\" alt=\"Open In Colab\"/></a>"
      ]
    },
    {
      "cell_type": "code",
      "execution_count": 13,
      "metadata": {
        "colab": {
          "base_uri": "https://localhost:8080/"
        },
        "id": "St6FqmppP7k8",
        "outputId": "a6819336-eab8-4656-a210-3cb3da96847e"
      },
      "outputs": [
        {
          "output_type": "stream",
          "name": "stdout",
          "text": [
            "2.757391785629938\n"
          ]
        }
      ],
      "source": [
        "import numpy as np\n",
        "import math\n",
        "\n",
        "def mat_inv(A, ifit):\n",
        "  if (type(A) == 'list'):\n",
        "    A = np.array(A)\n",
        "\n",
        "  return np.linalg.inv(A)\n",
        "\n",
        "def get_coeffs(A, B, ifit):\n",
        "  \n",
        "  ls_coefs = np.matmul(A, B)\n",
        "\n",
        "  return ls_coefs\n",
        "\n",
        "def ls_coeffs(x,y, ifit):\n",
        "  x2 = []\n",
        "  y2 = []\n",
        "  xy = []\n",
        "\n",
        "  for i in x:\n",
        "    i2 = i*i\n",
        "    x2.append(i2)\n",
        "\n",
        "  for i in y:\n",
        "    i2 = i*i\n",
        "    y2.append(i2)\n",
        "\n",
        "  for (i, j) in zip(x, y):\n",
        "    ij = i*j\n",
        "    xy.append(ij)\n",
        "\n",
        "  matrix = [[sum(x2), sum(x)], [sum(x), len(x)]]\n",
        "\n",
        "  inv_matrix = mat_inv(matrix, 1)\n",
        "\n",
        "  return get_coeffs(inv_matrix, [[sum(xy)], [sum(y)]], 1)\n",
        "\n",
        "def compute_residuals(x, y, ifit):\n",
        "  coeffs = ls_coeffs(x, y, ifit)\n",
        "  res = []\n",
        "\n",
        "  for i in range(len(x)):\n",
        "    i_res = y[i] - (coeffs[0][0] * x[i] + coeffs[1][0])\n",
        "    res.append(i_res)\n",
        "    \n",
        "  return res\n",
        "\n",
        "def root_mse(x, y, ifit):\n",
        "  res = compute_residuals(x, y, ifit)\n",
        "  res_sqrd = []\n",
        "\n",
        "  for i in res:\n",
        "    i**2\n",
        "    res_sqrd.append(i**2)\n",
        "  \n",
        "  mse = sum(res_sqrd)/len(res_sqrd)\n",
        "\n",
        "  return math.sqrt(mse)\n",
        "\n",
        "x = [1.0,2.0,4.0,6.0,5.0,6.0,9.0,8.0,11.0,12.0]\n",
        "y = [14.0,10.0,12.0,9.0,8.0,6.0,4.0,3.0,3.0,10.0]\n",
        "\n",
        "print(root_mse(x, y, 1))"
      ]
    }
  ]
}