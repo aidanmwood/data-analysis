{
  "nbformat": 4,
  "nbformat_minor": 0,
  "metadata": {
    "colab": {
      "provenance": [],
      "collapsed_sections": [],
      "authorship_tag": "ABX9TyMQELyZDaPyyGcKVVD3NJZL",
      "include_colab_link": true
    },
    "kernelspec": {
      "name": "python3",
      "display_name": "Python 3"
    },
    "language_info": {
      "name": "python"
    }
  },
  "cells": [
    {
      "cell_type": "markdown",
      "metadata": {
        "id": "view-in-github",
        "colab_type": "text"
      },
      "source": [
        "<a href=\"https://colab.research.google.com/github/aidanmwood/data-analysis/blob/main/Correlation_Coefficients.ipynb\" target=\"_parent\"><img src=\"https://colab.research.google.com/assets/colab-badge.svg\" alt=\"Open In Colab\"/></a>"
      ]
    },
    {
      "cell_type": "markdown",
      "source": [
        "Write a python function that takes as input two numeric lists and returns the value of the\n",
        "correlation between the two lists. Use the data shown below to test your function. The value of the\n",
        "correlation function for this data is 0.5298\n",
        "\n",
        "Place this function in your library of functions when you completed it. Also after you gotten your\n",
        "correlation function to work, create a generic xy plot function that can plot the data as either a scatter plot\n",
        "or an xy plot that draw a line between the data points. Place the plotting function in your function library.\n",
        "This will give a feel for how a correlation value corresponds to what you see in the scatterplot.\n",
        "\n",
        "x  y\n",
        "43 99\n",
        "21 65\n",
        "25 79\n",
        "42 75\n",
        "57 87\n",
        "59 81"
      ],
      "metadata": {
        "id": "RzfS7dzaIZ4N"
      }
    },
    {
      "cell_type": "code",
      "execution_count": 11,
      "metadata": {
        "id": "A86RSxvXKf65",
        "colab": {
          "base_uri": "https://localhost:8080/"
        },
        "outputId": "ff9b5300-c86b-469f-91b5-42c8e619a962"
      },
      "outputs": [
        {
          "output_type": "stream",
          "name": "stdout",
          "text": [
            "0.5298089018901744\n"
          ]
        }
      ],
      "source": [
        "import math\n",
        "\n",
        "x = [43, 21, 25, 42, 57, 59] \n",
        "y = [99, 65, 79, 75, 87, 81]\n",
        "\n",
        "def correl_coef(x, y):\n",
        "  x2 = []\n",
        "  y2 = []\n",
        "  xy = []\n",
        "\n",
        "  for i in x:\n",
        "    i2 = i*i\n",
        "    x2.append(i2)\n",
        "\n",
        "  for i in y:\n",
        "    i2 = i*i\n",
        "    y2.append(i2)\n",
        "\n",
        "  for (i, j) in zip(x, y):\n",
        "    ij = i*j\n",
        "    xy.append(ij)\n",
        "\n",
        "  num = (len(x) * sum(xy)) - (sum(x) * sum(y))\n",
        "  den1 = math.sqrt((len(x) * sum(x2)) - (sum(x)**2)) \n",
        "  den2 = math.sqrt(len(x) * sum(y2) - (sum(y)**2))\n",
        "\n",
        "  r = num / (den1*den2)\n",
        "  return (r)\n",
        "\n",
        "print(correl_coef(x,y))"
      ]
    }
  ]
}