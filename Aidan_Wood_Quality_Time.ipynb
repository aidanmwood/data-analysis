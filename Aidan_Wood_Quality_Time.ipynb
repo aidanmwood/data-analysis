{
  "nbformat": 4,
  "nbformat_minor": 0,
  "metadata": {
    "colab": {
      "provenance": [],
      "collapsed_sections": [],
      "include_colab_link": true
    },
    "kernelspec": {
      "name": "python3",
      "display_name": "Python 3"
    },
    "language_info": {
      "name": "python"
    }
  },
  "cells": [
    {
      "cell_type": "markdown",
      "metadata": {
        "id": "view-in-github",
        "colab_type": "text"
      },
      "source": [
        "<a href=\"https://colab.research.google.com/github/aidanmwood/data-analysis/blob/main/Aidan_Wood_Quality_Time.ipynb\" target=\"_parent\"><img src=\"https://colab.research.google.com/assets/colab-badge.svg\" alt=\"Open In Colab\"/></a>"
      ]
    },
    {
      "cell_type": "markdown",
      "source": [
        "# Imports\n",
        "Import all modules/libraries"
      ],
      "metadata": {
        "id": "De30EVQQnzHH"
      }
    },
    {
      "cell_type": "code",
      "source": [
        "# cell for importing all modules and libraries\n",
        "\n",
        "from matplotlib import pyplot as plt\n",
        "import random as rand\n",
        "import pandas as pd\n",
        "import math\n",
        "from inspect import ismethoddescriptor"
      ],
      "metadata": {
        "id": "umjMEVyAn5zr"
      },
      "execution_count": 76,
      "outputs": []
    },
    {
      "cell_type": "markdown",
      "source": [
        "# Functions"
      ],
      "metadata": {
        "id": "1SvmzBj4niko"
      }
    },
    {
      "cell_type": "markdown",
      "source": [
        "## Create functions\n",
        "\n",
        "1.   Write a python function that takes as input a list of data and returns the values of the first, second and\n",
        "third quartiles.\n",
        "2.   Write 3 separate python functions to plot a histogram, piechart, and box plot. The plotting functions\n",
        "should be made as “generic” as possible so they can be reused. At a minimum they should accept the\n",
        "following as inputs :\n",
        "\n",
        "          data – where data is a numerical list of values to be plotted.\n",
        "          xaxis label – string for the label of the xaxis\n",
        "          yaxis label – string for the label of the yaxis\n",
        "          title – string for the title of the plot\n",
        "\n",
        "    Feel free to add any additional arguments to the function call that you think will enhance your plot.\n",
        "\n",
        "    These 3 functions should put into your generic function library."
      ],
      "metadata": {
        "id": "OO82Diw2oCZa"
      }
    },
    {
      "cell_type": "code",
      "source": [
        "# cell for all functions\n",
        "\n",
        "def mean(data):\n",
        "  data_sum = sum(data)\n",
        "  return data_sum / len(data)\n",
        "  \n",
        "def median(data):\n",
        "  data.sort()\n",
        "\n",
        "  if len(data)%2 == 0:\n",
        "    avg = (data[int(len(data)/2)] + data[int(len(data)/2) - 1]) / 2\n",
        "    return avg\n",
        "  else:\n",
        "    return data[int(len(data)/2)]\n",
        "\n",
        "def variance(data):\n",
        "  sqr_data = []\n",
        "\n",
        "  for val in data:\n",
        "    sqr_data.append(val**2)\n",
        "\n",
        "  variance = 1/len(data) * sum(sqr_data) - (1/len(data) * sum(data))**2\n",
        "  return variance\n",
        "\n",
        "def stand_dev(data):\n",
        "  return math.sqrt(variance(data))\n",
        "  \n",
        "def elem_stats(data):\n",
        "  data.sort()\n",
        "  \n",
        "  stats = {}\n",
        "\n",
        "  stats['mean'] = mean(data)\n",
        "  stats['median'] = median(data)\n",
        "  stats['variance'] = variance(data)\n",
        "  stats['standard deviation'] = stand_dev(data)\n",
        "  stats['min'] = min(data)\n",
        "  stats['max'] = max(data)\n",
        "\n",
        "  print(stats) \n",
        "\n",
        "# create function that inputs a list of data and outputs first, second, third quartiles\n",
        "\n",
        "def quartiles(data):\n",
        "  data.sort()\n",
        "  sec_quart = median(data)\n",
        "  \n",
        "  first_half = []\n",
        "  sec_half = []\n",
        "\n",
        "  if len(data)%2 == 0:\n",
        "    for num in range(0, int(len(data)/2)):\n",
        "      first_half.append(data[num])\n",
        "      print(first_half)\n",
        "\n",
        "    for num in range(int(len(data)/2), len(data)):\n",
        "      sec_half.append(data[num]) \n",
        "      print(sec_half)\n",
        "  else:\n",
        "    for num in range(0, int(len(data)/2)):\n",
        "      first_half.append(data[num])\n",
        "      print(first_half)\n",
        "\n",
        "    for num in range(int(len(data)/2)+1, len(data)):\n",
        "      sec_half.append(data[num]) \n",
        "      print(sec_half)\n",
        "\n",
        "  first_quart = median(first_half)\n",
        "  third_quart = median(sec_half)\n",
        "\n",
        "  return first_quart, sec_quart, third_quart\n",
        "\n",
        "# histogram function\n",
        "\n",
        "def histogram(vals, bins, orientation = 'vertical', label = None, x_label=None, y_label=None, show_grid=False, title=None):\n",
        "  plt.hist(vals, bins, orientation = orientation, label = label)\n",
        "  plt.title(title)\n",
        "  plt.xlabel(x_label)\n",
        "  plt.ylabel(y_label)\n",
        "  if show_grid:\n",
        "    plt.grid()\n",
        "  plt.show()\n",
        "\n",
        "# pie chart function\n",
        "\n",
        "def pie_chart(vals, bin_num, start_angle=None, pct_round=None, explode=None, shadow=False, x_label=None, y_label=None, title=None):\n",
        "  # sorts array of vals acending\n",
        "  vals.sort()\n",
        "  # determines the range and size of each bin based on range and specified number of bins\n",
        "  data_range = math.ceil(vals[-1]) - math.floor(vals[0]) + 1\n",
        "  bin_size = math.ceil(data_range/bin_num)\n",
        "  print(bin_size)\n",
        "  print(data_range)\n",
        "  # creates an array and fills with num of terms per bin \n",
        "  bin_array = []\n",
        "  bin_min = vals[0]\n",
        "  labels_array = []\n",
        "  \n",
        "\n",
        "  for num in range(bin_num):\n",
        "    bin_max = math.floor(bin_min) + bin_size -1\n",
        "    bin_count = 0\n",
        "    for val in vals:\n",
        "      if bin_min <= val <= bin_max:\n",
        "        bin_count = bin_count+1\n",
        "    bin_array.append(bin_count)\n",
        "    labels_array.append(str(math.floor(bin_min)) + \"-\" + str(bin_max))\n",
        "    bin_min = bin_max + 1\n",
        "\n",
        "  if bin_count == 0:\n",
        "    bin_array.pop()\n",
        "    labels_array.pop()\n",
        "\n",
        "  plt.pie(bin_array, startangle=start_angle, autopct=pct_round, labels=labels_array, explode=explode, shadow=shadow)\n",
        "  plt.title(title)\n",
        "  plt.xlabel(x_label)\n",
        "  plt.ylabel(y_label)\n",
        "  plt.show()\n",
        "\n",
        "# box plot function\n",
        "\n",
        "def box_plot(vals, notch=False, vert=False, meanline=False, x_label=None, y_label=None, show_grid=False, title=None):\n",
        "  plt.boxplot(vals, notch=False, vert=False, meanline=True, showmeans=True)\n",
        "  plt.title(title)\n",
        "  plt.xlabel(x_label)\n",
        "  plt.ylabel(y_label)\n",
        "  if show_grid:\n",
        "    plt.grid()\n",
        "  plt.show()\n",
        "\n",
        "data = [1,2,3,4,5,6,7,8,9,10,11]\n",
        "pie_chart(data, 5)"
      ],
      "metadata": {
        "id": "g3SYTG4jnpYi",
        "colab": {
          "base_uri": "https://localhost:8080/",
          "height": 285
        },
        "outputId": "c670af46-3217-4f7e-d65b-3ef3ac91c0c3"
      },
      "execution_count": 77,
      "outputs": [
        {
          "output_type": "stream",
          "name": "stdout",
          "text": [
            "3\n",
            "11\n"
          ]
        },
        {
          "output_type": "display_data",
          "data": {
            "text/plain": [
              "<Figure size 432x288 with 1 Axes>"
            ],
            "image/png": "[encoded data removed]"
          },
          "metadata": {}
        }
      ]
    },
    {
      "cell_type": "markdown",
      "source": [
        "# Get/Load data\n",
        "\n",
        "https://github.com/bobg207/Honors_Data_Analysis/blob/master/website_times.txt\n",
        "\n",
        "Make sure to use the URL from the **RAW** data"
      ],
      "metadata": {
        "id": "syvTmSmfnH0Q"
      }
    },
    {
      "cell_type": "code",
      "execution_count": 78,
      "metadata": {
        "id": "FXoUaqHRmHFr",
        "colab": {
          "base_uri": "https://localhost:8080/",
          "height": 206
        },
        "outputId": "aa44683b-62da-4986-9d9d-43c2a43d097a"
      },
      "outputs": [
        {
          "output_type": "execute_result",
          "data": {
            "text/plain": [
              "   Website_A  Website_B\n",
              "0      14.00      47.79\n",
              "1      13.93      44.57\n",
              "2      18.29      58.20\n",
              "3      26.23      35.92\n",
              "4      19.70      43.23"
            ],
            "text/html": [
              "\n",
              "  <div id=\"df-8f2f814f-8cd8-4f41-8d72-e80aab299222\">\n",
              "    <div class=\"colab-df-container\">\n",
              "      <div>\n",
              "<style scoped>\n",
              "    .dataframe tbody tr th:only-of-type {\n",
              "        vertical-align: middle;\n",
              "    }\n",
              "\n",
              "    .dataframe tbody tr th {\n",
              "        vertical-align: top;\n",
              "    }\n",
              "\n",
              "    .dataframe thead th {\n",
              "        text-align: right;\n",
              "    }\n",
              "</style>\n",
              "<table border=\"1\" class=\"dataframe\">\n",
              "  <thead>\n",
              "    <tr style=\"text-align: right;\">\n",
              "      <th></th>\n",
              "      <th>Website_A</th>\n",
              "      <th>Website_B</th>\n",
              "    </tr>\n",
              "  </thead>\n",
              "  <tbody>\n",
              "    <tr>\n",
              "      <th>0</th>\n",
              "      <td>14.00</td>\n",
              "      <td>47.79</td>\n",
              "    </tr>\n",
              "    <tr>\n",
              "      <th>1</th>\n",
              "      <td>13.93</td>\n",
              "      <td>44.57</td>\n",
              "    </tr>\n",
              "    <tr>\n",
              "      <th>2</th>\n",
              "      <td>18.29</td>\n",
              "      <td>58.20</td>\n",
              "    </tr>\n",
              "    <tr>\n",
              "      <th>3</th>\n",
              "      <td>26.23</td>\n",
              "      <td>35.92</td>\n",
              "    </tr>\n",
              "    <tr>\n",
              "      <th>4</th>\n",
              "      <td>19.70</td>\n",
              "      <td>43.23</td>\n",
              "    </tr>\n",
              "  </tbody>\n",
              "</table>\n",
              "</div>\n",
              "      <button class=\"colab-df-convert\" onclick=\"convertToInteractive('df-8f2f814f-8cd8-4f41-8d72-e80aab299222')\"\n",
              "              title=\"Convert this dataframe to an interactive table.\"\n",
              "              style=\"display:none;\">\n",
              "        \n",
              "  <svg xmlns=\"http://www.w3.org/2000/svg\" height=\"24px\"viewBox=\"0 0 24 24\"\n",
              "       width=\"24px\">\n",
              "    <path d=\"M0 0h24v24H0V0z\" fill=\"none\"/>\n",
              "    <path d=\"M18.56 5.44l.94 2.06.94-2.06 2.06-.94-2.06-.94-.94-2.06-.94 2.06-2.06.94zm-11 1L8.5 8.5l.94-2.06 2.06-.94-2.06-.94L8.5 2.5l-.94 2.06-2.06.94zm10 10l.94 2.06.94-2.06 2.06-.94-2.06-.94-.94-2.06-.94 2.06-2.06.94z\"/><path d=\"M17.41 7.96l-1.37-1.37c-.4-.4-.92-.59-1.43-.59-.52 0-1.04.2-1.43.59L10.3 9.45l-7.72 7.72c-.78.78-.78 2.05 0 2.83L4 21.41c.39.39.9.59 1.41.59.51 0 1.02-.2 1.41-.59l7.78-7.78 2.81-2.81c.8-.78.8-2.07 0-2.86zM5.41 20L4 18.59l7.72-7.72 1.47 1.35L5.41 20z\"/>\n",
              "  </svg>\n",
              "      </button>\n",
              "      \n",
              "  <style>\n",
              "    .colab-df-container {\n",
              "      display:flex;\n",
              "      flex-wrap:wrap;\n",
              "      gap: 12px;\n",
              "    }\n",
              "\n",
              "    .colab-df-convert {\n",
              "      background-color: #E8F0FE;\n",
              "      border: none;\n",
              "      border-radius: 50%;\n",
              "      cursor: pointer;\n",
              "      display: none;\n",
              "      fill: #1967D2;\n",
              "      height: 32px;\n",
              "      padding: 0 0 0 0;\n",
              "      width: 32px;\n",
              "    }\n",
              "\n",
              "    .colab-df-convert:hover {\n",
              "      background-color: #E2EBFA;\n",
              "      box-shadow: 0px 1px 2px rgba(60, 64, 67, 0.3), 0px 1px 3px 1px rgba(60, 64, 67, 0.15);\n",
              "      fill: #174EA6;\n",
              "    }\n",
              "\n",
              "    [theme=dark] .colab-df-convert {\n",
              "      background-color: #3B4455;\n",
              "      fill: #D2E3FC;\n",
              "    }\n",
              "\n",
              "    [theme=dark] .colab-df-convert:hover {\n",
              "      background-color: #434B5C;\n",
              "      box-shadow: 0px 1px 3px 1px rgba(0, 0, 0, 0.15);\n",
              "      filter: drop-shadow(0px 1px 2px rgba(0, 0, 0, 0.3));\n",
              "      fill: #FFFFFF;\n",
              "    }\n",
              "  </style>\n",
              "\n",
              "      <script>\n",
              "        const buttonEl =\n",
              "          document.querySelector('#df-8f2f814f-8cd8-4f41-8d72-e80aab299222 button.colab-df-convert');\n",
              "        buttonEl.style.display =\n",
              "          google.colab.kernel.accessAllowed ? 'block' : 'none';\n",
              "\n",
              "        async function convertToInteractive(key) {\n",
              "          const element = document.querySelector('#df-8f2f814f-8cd8-4f41-8d72-e80aab299222');\n",
              "          const dataTable =\n",
              "            await google.colab.kernel.invokeFunction('convertToInteractive',\n",
              "                                                     [key], {});\n",
              "          if (!dataTable) return;\n",
              "\n",
              "          const docLinkHtml = 'Like what you see? Visit the ' +\n",
              "            '<a target=\"_blank\" href=https://colab.research.google.com/notebooks/data_table.ipynb>data table notebook</a>'\n",
              "            + ' to learn more about interactive tables.';\n",
              "          element.innerHTML = '';\n",
              "          dataTable['output_type'] = 'display_data';\n",
              "          await google.colab.output.renderOutput(dataTable, element);\n",
              "          const docLink = document.createElement('div');\n",
              "          docLink.innerHTML = docLinkHtml;\n",
              "          element.appendChild(docLink);\n",
              "        }\n",
              "      </script>\n",
              "    </div>\n",
              "  </div>\n",
              "  "
            ]
          },
          "metadata": {},
          "execution_count": 78
        }
      ],
      "source": [
        "# cell for loading data\n",
        "\n",
        "website_times = pd.read_csv('https://raw.githubusercontent.com/bobg207/Honors_Data_Analysis/master/website_times.txt', delim_whitespace=True)\n",
        "\n",
        "website_times.head()"
      ]
    },
    {
      "cell_type": "markdown",
      "source": [
        "# Create a simple presentation of the data\n",
        "\n",
        "Using the above plotting functions as well as the simple statistics function you wrote for exercise 1, \n",
        "\n",
        "1.    Write a Python program to read in a set of data containing data on the length of time a user spends on a website. \n",
        "      \n",
        "      Your program should output the following statistics for the data set \n",
        "          Mean, Median, Variance, \n",
        "          Standard Deviation, Min and Max. \n",
        "          \n",
        "      Your program should also output a Boxplot, histogram and pie chart for the data.\n",
        "You will be provided a data files each containing data on the length of time a user spends on a website for two different websites.\n",
        "\n",
        "Take the outputs of your programs, i.e. the plots and statistics and, using combinations of \"Text\" and \"Code\" cells, create a presentation of your findings."
      ],
      "metadata": {
        "id": "NRa7QxyMowQ4"
      }
    },
    {
      "cell_type": "markdown",
      "source": [
        "# Website 1 and 2 Statistics\n",
        "\n",
        "Mean, median, mode of time spent on each site"
      ],
      "metadata": {
        "id": "7LSI4ECGR1WI"
      }
    },
    {
      "cell_type": "code",
      "source": [
        "site_a = website_times['Website_A'].tolist()\n",
        "site_b = website_times['Website_B'].tolist()\n",
        "\n",
        "elem_stats(site_a)\n",
        "elem_stats(site_b)\n",
        "print()\n",
        "box_plot(site_a, title='Time Spent on Website A Box Plot', x_label='Time Spent', show_grid=True)\n",
        "box_plot(site_b, title='Time Spent on Website B Box Plot', x_label='Time Spent', show_grid=True)\n",
        "print()\n",
        "histogram(site_a, 10, title=\"Time Spent on Website A Histogram\", x_label=\"Time\", y_label='frequency')\n",
        "histogram(site_b, 10, title=\"Time Spent on Website B Histogram\", x_label=\"Time\", y_label='frequency')\n",
        "print()\n",
        "pie_chart(site_a, 10, title=\"Time Spent on Website A Pie Chart\")\n",
        "pie_chart(site_b, 10, title=\"Time Spent on Website B Pie Chart\")"
      ],
      "metadata": {
        "id": "w2I7FlBoSI9R",
        "colab": {
          "base_uri": "https://localhost:8080/",
          "height": 1000
        },
        "outputId": "435115fd-0789-452a-eac5-5dbcee2913ee"
      },
      "execution_count": 79,
      "outputs": [
        {
          "output_type": "stream",
          "name": "stdout",
          "text": [
            "{'mean': 20.680999999999997, 'median': 20.935000000000002, 'variance': 30.032143000000076, 'standard deviation': 5.480159030539175, 'min': 10.78, 'max': 29.93}\n",
            "{'mean': 45.084799999999994, 'median': 45.215, 'variance': 42.903778960000864, 'standard deviation': 6.550097629806816, 'min': 27.92, 'max': 63.89}\n",
            "\n"
          ]
        },
        {
          "output_type": "display_data",
          "data": {
            "text/plain": [
              "<Figure size 432x288 with 1 Axes>"
            ],
            "image/png": "[encoded data removed]"
          },
          "metadata": {
            "needs_background": "light"
          }
        },
        {
          "output_type": "display_data",
          "data": {
            "text/plain": [
              "<Figure size 432x288 with 1 Axes>"
            ],
            "image/png": "[encoded data removed]"
          },
          "metadata": {
            "needs_background": "light"
          }
        },
        {
          "output_type": "stream",
          "name": "stdout",
          "text": [
            "\n"
          ]
        },
        {
          "output_type": "display_data",
          "data": {
            "text/plain": [
              "<Figure size 432x288 with 1 Axes>"
            ],
            "image/png": "[encoded data removed]"
          },
          "metadata": {
            "needs_background": "light"
          }
        },
        {
          "output_type": "display_data",
          "data": {
            "text/plain": [
              "<Figure size 432x288 with 1 Axes>"
            ],
            "image/png": "[encoded data removed]"
          },
          "metadata": {
            "needs_background": "light"
          }
        },
        {
          "output_type": "stream",
          "name": "stdout",
          "text": [
            "\n",
            "3\n",
            "21\n"
          ]
        },
        {
          "output_type": "display_data",
          "data": {
            "text/plain": [
              "<Figure size 432x288 with 1 Axes>"
            ],
            "image/png": "[encoded data removed]"
          },
          "metadata": {}
        },
        {
          "output_type": "stream",
          "name": "stdout",
          "text": [
            "4\n",
            "38\n"
          ]
        },
        {
          "output_type": "display_data",
          "data": {
            "text/plain": [
              "<Figure size 432x288 with 1 Axes>"
            ],
            "image/png": "[encoded data removed]"
          },
          "metadata": {}
        }
      ]
    }
  ]
}