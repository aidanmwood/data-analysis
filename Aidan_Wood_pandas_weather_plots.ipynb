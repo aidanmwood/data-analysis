{
  "nbformat": 4,
  "nbformat_minor": 0,
  "metadata": {
    "colab": {
      "provenance": [],
      "collapsed_sections": [],
      "include_colab_link": true
    },
    "kernelspec": {
      "name": "python3",
      "display_name": "Python 3"
    }
  },
  "cells": [
    {
      "cell_type": "markdown",
      "metadata": {
        "id": "view-in-github",
        "colab_type": "text"
      },
      "source": [
        "<a href=\"https://colab.research.google.com/github/aidanmwood/data-analysis/blob/main/Aidan_Wood_pandas_weather_plots.ipynb\" target=\"_parent\"><img src=\"https://colab.research.google.com/assets/colab-badge.svg\" alt=\"Open In Colab\"/></a>"
      ]
    },
    {
      "cell_type": "markdown",
      "source": [
        "# Mount the drive\n",
        "\n",
        "The path to drive is '/content/drive'"
      ],
      "metadata": {
        "id": "SpoKEUEfAJvR"
      }
    },
    {
      "cell_type": "code",
      "metadata": {
        "id": "5ydUeyqjDVan",
        "colab": {
          "base_uri": "https://localhost:8080/"
        },
        "outputId": "d5e9214c-41b1-4bc0-c9e6-70100651207a"
      },
      "source": [
        "from google.colab import drive\n",
        "drive.mount('/content/drive')"
      ],
      "execution_count": 1,
      "outputs": [
        {
          "output_type": "stream",
          "name": "stdout",
          "text": [
            "Mounted at /content/drive\n"
          ]
        }
      ]
    },
    {
      "cell_type": "markdown",
      "source": [
        "# Display the contents of the folder where the data exists\n",
        "\n",
        "Use `!ls` followed by the path to the folder containg the data file.  Be sure to escape `\\` any special characters, like spaces, that might be part of a folder name. The path to the folder begins with the path used above and ends with `/*.txt`. This will display all (`*`) files, with extension `.txt` that are in the location provided by the path.\n",
        "\n",
        "ex: `!ls content/drive/My\\ Drive/ColabNBs/*.txt`\n",
        "\n",
        "Notice the escaped space between \"My\" and \"Drive\".  Also when doing this the path is NOT in quotes, the language here is not Python but Command Line and as such does not require the path to be a string."
      ],
      "metadata": {
        "id": "d9fG6mX3AQmq"
      }
    },
    {
      "cell_type": "code",
      "metadata": {
        "id": "XlEiovK2DtLm",
        "colab": {
          "base_uri": "https://localhost:8080/"
        },
        "outputId": "86a8b3f3-250a-4d1b-fe46-ed2b3aade416"
      },
      "source": [
        "!ls /content/drive/My\\ Drive/Colab\\ Notebooks/*.txt"
      ],
      "execution_count": 2,
      "outputs": [
        {
          "output_type": "stream",
          "name": "stdout",
          "text": [
            "'/content/drive/My Drive/Colab Notebooks/PortlandWeather2013b.txt'\n"
          ]
        }
      ]
    },
    {
      "cell_type": "markdown",
      "source": [
        "# Create a convert_temp function\n",
        "\n",
        "The temperatures, in the data, are in degrees Celsius and mulitplied by 10 so there are no decimals in the data.  Create a function to convert a given temp to a temp in degrees Fahrenheit, rounded to one decimal place.\n",
        "\n"
      ],
      "metadata": {
        "id": "ICPlcarrBVMj"
      }
    },
    {
      "cell_type": "code",
      "metadata": {
        "id": "Qm2pvMtjFCXf"
      },
      "source": [
        "def temp_convert(temp):\n",
        "  convert_decimal = int(temp)/10\n",
        "  convert_temp = round(1.8 * convert_decimal + 32, 1)\n",
        "  return convert_temp\n"
      ],
      "execution_count": 3,
      "outputs": []
    },
    {
      "cell_type": "markdown",
      "source": [
        "# Read the data from the file\n",
        "\n",
        "Create the path (should be the one use above, with the specific file that you will read from).\n",
        "\n",
        "Use this path to read the dat from the file.  Decide how you will do this and what format would you like the data returned as.\n",
        "\n",
        "Spend some time looking at the data and deciding how you will \"clean\" the data.  \n",
        "\n",
        "1.   Which columns of data are of interest and wich will be ignored\n",
        "2.   What are the data types currently and what do you want them to be\n",
        "3.   What data do you want and how will you store the data you choose\n",
        "4.   How will you convert the data that needs changing\n",
        "5.   Is there any missing or unusual data? How will you handle this?\n",
        "6.   Other?"
      ],
      "metadata": {
        "id": "-ywZsDIFG6DG"
      }
    },
    {
      "cell_type": "code",
      "source": [
        "path = '/content/drive/My Drive/Colab Notebooks/PortlandWeather2013b.txt'\n",
        "\n",
        "with open(path) as file:\n",
        "  data_list = file.readlines()\n",
        "\n",
        "data_list"
      ],
      "metadata": {
        "id": "ZUR4ETRcG6tW"
      },
      "execution_count": null,
      "outputs": []
    },
    {
      "cell_type": "markdown",
      "source": [
        "# Create a Python dictionary with the weather data\n",
        "\n",
        "Copy/Paste your code from the previous NB"
      ],
      "metadata": {
        "id": "Ht_wS5lLHQ3g"
      }
    },
    {
      "cell_type": "code",
      "source": [
        "with open(\"/content/drive/My Drive/Colab Notebooks/PortlandWeather2013b.txt\") as f:\n",
        "    \n",
        "    \n",
        "    \n",
        "    # throwing out unused lines\n",
        "    f.readline()\n",
        "    f.readline()\n",
        "\n",
        "    weather_dict = {\"dates\" : [], \"tmax\" : [], \"tmin\" : []}\n",
        "\n",
        "    for entry in f:\n",
        "      # breaking up line of data by whitespace\n",
        "      line = entry.split()\n",
        "      date = line[1]\n",
        "\n",
        "      # catagorizing date data\n",
        "      year = date[:4]\n",
        "      month = date[4:6]\n",
        "      day = date[6:]\n",
        "\n",
        "      # formatting the date\n",
        "      f_date = f\"{month}/{day}/{year}\"\n",
        "      \n",
        "      tmax = temp_convert(line[5])\n",
        "      \n",
        "      tmin = temp_convert(line[6])\n",
        "      \n",
        "      weather_dict[\"dates\"].append(f_date)\n",
        "      weather_dict['tmax'].append(tmax)\n",
        "      weather_dict['tmin'].append(tmin)"
      ],
      "metadata": {
        "id": "x0aT8LptHRng"
      },
      "execution_count": 5,
      "outputs": []
    },
    {
      "cell_type": "markdown",
      "source": [
        "# Pandas"
      ],
      "metadata": {
        "id": "qN-dIlIPvpB_"
      }
    },
    {
      "cell_type": "markdown",
      "source": [
        "## Create a Dataframe using the weather dictionary"
      ],
      "metadata": {
        "id": "8DDcf3h9vwIW"
      }
    },
    {
      "cell_type": "code",
      "source": [
        "# create a pandas df\n",
        "import pandas as pd\n",
        "\n",
        "weather_df = pd.DataFrame(data=weather_dict)\n",
        "\n",
        "weather_df"
      ],
      "metadata": {
        "id": "evrpGqL2v433",
        "colab": {
          "base_uri": "https://localhost:8080/",
          "height": 424
        },
        "outputId": "de85ad1b-53cc-4c28-e627-601063ca753a"
      },
      "execution_count": 6,
      "outputs": [
        {
          "output_type": "execute_result",
          "data": {
            "text/plain": [
              "          dates  tmax  tmin\n",
              "0    01/01/2013  32.0  10.9\n",
              "1    01/02/2013  24.1   3.0\n",
              "2    01/03/2013  23.0  -0.0\n",
              "3    01/04/2013  34.0   9.0\n",
              "4    01/05/2013  36.0  16.0\n",
              "..          ...   ...   ...\n",
              "360  12/27/2013  32.0   7.2\n",
              "361  12/28/2013  37.0  18.1\n",
              "362  12/29/2013  35.1  20.1\n",
              "363  12/30/2013  35.1   8.2\n",
              "364  12/31/2013  13.1   1.2\n",
              "\n",
              "[365 rows x 3 columns]"
            ],
            "text/html": [
              "\n",
              "  <div id=\"df-d35d27c1-7d92-410e-8ca8-637776a473d9\">\n",
              "    <div class=\"colab-df-container\">\n",
              "      <div>\n",
              "<style scoped>\n",
              "    .dataframe tbody tr th:only-of-type {\n",
              "        vertical-align: middle;\n",
              "    }\n",
              "\n",
              "    .dataframe tbody tr th {\n",
              "        vertical-align: top;\n",
              "    }\n",
              "\n",
              "    .dataframe thead th {\n",
              "        text-align: right;\n",
              "    }\n",
              "</style>\n",
              "<table border=\"1\" class=\"dataframe\">\n",
              "  <thead>\n",
              "    <tr style=\"text-align: right;\">\n",
              "      <th></th>\n",
              "      <th>dates</th>\n",
              "      <th>tmax</th>\n",
              "      <th>tmin</th>\n",
              "    </tr>\n",
              "  </thead>\n",
              "  <tbody>\n",
              "    <tr>\n",
              "      <th>0</th>\n",
              "      <td>01/01/2013</td>\n",
              "      <td>32.0</td>\n",
              "      <td>10.9</td>\n",
              "    </tr>\n",
              "    <tr>\n",
              "      <th>1</th>\n",
              "      <td>01/02/2013</td>\n",
              "      <td>24.1</td>\n",
              "      <td>3.0</td>\n",
              "    </tr>\n",
              "    <tr>\n",
              "      <th>2</th>\n",
              "      <td>01/03/2013</td>\n",
              "      <td>23.0</td>\n",
              "      <td>-0.0</td>\n",
              "    </tr>\n",
              "    <tr>\n",
              "      <th>3</th>\n",
              "      <td>01/04/2013</td>\n",
              "      <td>34.0</td>\n",
              "      <td>9.0</td>\n",
              "    </tr>\n",
              "    <tr>\n",
              "      <th>4</th>\n",
              "      <td>01/05/2013</td>\n",
              "      <td>36.0</td>\n",
              "      <td>16.0</td>\n",
              "    </tr>\n",
              "    <tr>\n",
              "      <th>...</th>\n",
              "      <td>...</td>\n",
              "      <td>...</td>\n",
              "      <td>...</td>\n",
              "    </tr>\n",
              "    <tr>\n",
              "      <th>360</th>\n",
              "      <td>12/27/2013</td>\n",
              "      <td>32.0</td>\n",
              "      <td>7.2</td>\n",
              "    </tr>\n",
              "    <tr>\n",
              "      <th>361</th>\n",
              "      <td>12/28/2013</td>\n",
              "      <td>37.0</td>\n",
              "      <td>18.1</td>\n",
              "    </tr>\n",
              "    <tr>\n",
              "      <th>362</th>\n",
              "      <td>12/29/2013</td>\n",
              "      <td>35.1</td>\n",
              "      <td>20.1</td>\n",
              "    </tr>\n",
              "    <tr>\n",
              "      <th>363</th>\n",
              "      <td>12/30/2013</td>\n",
              "      <td>35.1</td>\n",
              "      <td>8.2</td>\n",
              "    </tr>\n",
              "    <tr>\n",
              "      <th>364</th>\n",
              "      <td>12/31/2013</td>\n",
              "      <td>13.1</td>\n",
              "      <td>1.2</td>\n",
              "    </tr>\n",
              "  </tbody>\n",
              "</table>\n",
              "<p>365 rows × 3 columns</p>\n",
              "</div>\n",
              "      <button class=\"colab-df-convert\" onclick=\"convertToInteractive('df-d35d27c1-7d92-410e-8ca8-637776a473d9')\"\n",
              "              title=\"Convert this dataframe to an interactive table.\"\n",
              "              style=\"display:none;\">\n",
              "        \n",
              "  <svg xmlns=\"http://www.w3.org/2000/svg\" height=\"24px\"viewBox=\"0 0 24 24\"\n",
              "       width=\"24px\">\n",
              "    <path d=\"M0 0h24v24H0V0z\" fill=\"none\"/>\n",
              "    <path d=\"M18.56 5.44l.94 2.06.94-2.06 2.06-.94-2.06-.94-.94-2.06-.94 2.06-2.06.94zm-11 1L8.5 8.5l.94-2.06 2.06-.94-2.06-.94L8.5 2.5l-.94 2.06-2.06.94zm10 10l.94 2.06.94-2.06 2.06-.94-2.06-.94-.94-2.06-.94 2.06-2.06.94z\"/><path d=\"M17.41 7.96l-1.37-1.37c-.4-.4-.92-.59-1.43-.59-.52 0-1.04.2-1.43.59L10.3 9.45l-7.72 7.72c-.78.78-.78 2.05 0 2.83L4 21.41c.39.39.9.59 1.41.59.51 0 1.02-.2 1.41-.59l7.78-7.78 2.81-2.81c.8-.78.8-2.07 0-2.86zM5.41 20L4 18.59l7.72-7.72 1.47 1.35L5.41 20z\"/>\n",
              "  </svg>\n",
              "      </button>\n",
              "      \n",
              "  <style>\n",
              "    .colab-df-container {\n",
              "      display:flex;\n",
              "      flex-wrap:wrap;\n",
              "      gap: 12px;\n",
              "    }\n",
              "\n",
              "    .colab-df-convert {\n",
              "      background-color: #E8F0FE;\n",
              "      border: none;\n",
              "      border-radius: 50%;\n",
              "      cursor: pointer;\n",
              "      display: none;\n",
              "      fill: #1967D2;\n",
              "      height: 32px;\n",
              "      padding: 0 0 0 0;\n",
              "      width: 32px;\n",
              "    }\n",
              "\n",
              "    .colab-df-convert:hover {\n",
              "      background-color: #E2EBFA;\n",
              "      box-shadow: 0px 1px 2px rgba(60, 64, 67, 0.3), 0px 1px 3px 1px rgba(60, 64, 67, 0.15);\n",
              "      fill: #174EA6;\n",
              "    }\n",
              "\n",
              "    [theme=dark] .colab-df-convert {\n",
              "      background-color: #3B4455;\n",
              "      fill: #D2E3FC;\n",
              "    }\n",
              "\n",
              "    [theme=dark] .colab-df-convert:hover {\n",
              "      background-color: #434B5C;\n",
              "      box-shadow: 0px 1px 3px 1px rgba(0, 0, 0, 0.15);\n",
              "      filter: drop-shadow(0px 1px 2px rgba(0, 0, 0, 0.3));\n",
              "      fill: #FFFFFF;\n",
              "    }\n",
              "  </style>\n",
              "\n",
              "      <script>\n",
              "        const buttonEl =\n",
              "          document.querySelector('#df-d35d27c1-7d92-410e-8ca8-637776a473d9 button.colab-df-convert');\n",
              "        buttonEl.style.display =\n",
              "          google.colab.kernel.accessAllowed ? 'block' : 'none';\n",
              "\n",
              "        async function convertToInteractive(key) {\n",
              "          const element = document.querySelector('#df-d35d27c1-7d92-410e-8ca8-637776a473d9');\n",
              "          const dataTable =\n",
              "            await google.colab.kernel.invokeFunction('convertToInteractive',\n",
              "                                                     [key], {});\n",
              "          if (!dataTable) return;\n",
              "\n",
              "          const docLinkHtml = 'Like what you see? Visit the ' +\n",
              "            '<a target=\"_blank\" href=https://colab.research.google.com/notebooks/data_table.ipynb>data table notebook</a>'\n",
              "            + ' to learn more about interactive tables.';\n",
              "          element.innerHTML = '';\n",
              "          dataTable['output_type'] = 'display_data';\n",
              "          await google.colab.output.renderOutput(dataTable, element);\n",
              "          const docLink = document.createElement('div');\n",
              "          docLink.innerHTML = docLinkHtml;\n",
              "          element.appendChild(docLink);\n",
              "        }\n",
              "      </script>\n",
              "    </div>\n",
              "  </div>\n",
              "  "
            ]
          },
          "metadata": {},
          "execution_count": 6
        }
      ]
    },
    {
      "cell_type": "markdown",
      "source": [
        "## Display the first 5 and last 5 rows"
      ],
      "metadata": {
        "id": "NEKEp72-v-v1"
      }
    },
    {
      "cell_type": "code",
      "source": [
        "print(weather_df.head())\n",
        "print()\n",
        "print(weather_df.tail())"
      ],
      "metadata": {
        "id": "c7nSasz_v82g",
        "colab": {
          "base_uri": "https://localhost:8080/"
        },
        "outputId": "e99c474d-cb7a-46d6-f6d3-b585cb9f07ad"
      },
      "execution_count": 7,
      "outputs": [
        {
          "output_type": "stream",
          "name": "stdout",
          "text": [
            "        dates  tmax  tmin\n",
            "0  01/01/2013  32.0  10.9\n",
            "1  01/02/2013  24.1   3.0\n",
            "2  01/03/2013  23.0  -0.0\n",
            "3  01/04/2013  34.0   9.0\n",
            "4  01/05/2013  36.0  16.0\n",
            "\n",
            "          dates  tmax  tmin\n",
            "360  12/27/2013  32.0   7.2\n",
            "361  12/28/2013  37.0  18.1\n",
            "362  12/29/2013  35.1  20.1\n",
            "363  12/30/2013  35.1   8.2\n",
            "364  12/31/2013  13.1   1.2\n"
          ]
        }
      ]
    },
    {
      "cell_type": "markdown",
      "source": [
        "## Display a summary of basic information about your df, in two ways"
      ],
      "metadata": {
        "id": "XzNKS7aywMm3"
      }
    },
    {
      "cell_type": "code",
      "source": [
        "# df.info() and df.describe()\n",
        "\n",
        "print(weather_df.info())\n",
        "print()\n",
        "print(weather_df.describe())"
      ],
      "metadata": {
        "id": "XQ_qDdLtwvPN",
        "colab": {
          "base_uri": "https://localhost:8080/"
        },
        "outputId": "730cfb65-1f09-483f-d794-7a09d4a1edf0"
      },
      "execution_count": 8,
      "outputs": [
        {
          "output_type": "stream",
          "name": "stdout",
          "text": [
            "<class 'pandas.core.frame.DataFrame'>\n",
            "RangeIndex: 365 entries, 0 to 364\n",
            "Data columns (total 3 columns):\n",
            " #   Column  Non-Null Count  Dtype  \n",
            "---  ------  --------------  -----  \n",
            " 0   dates   365 non-null    object \n",
            " 1   tmax    365 non-null    float64\n",
            " 2   tmin    365 non-null    float64\n",
            "dtypes: float64(2), object(1)\n",
            "memory usage: 8.7+ KB\n",
            "None\n",
            "\n",
            "             tmax        tmin\n",
            "count  365.000000  365.000000\n",
            "mean    55.941644   38.138904\n",
            "std     18.882167   17.374042\n",
            "min      8.100000   -5.800000\n",
            "25%     39.900000   26.200000\n",
            "50%     57.000000   37.000000\n",
            "75%     71.100000   52.000000\n",
            "max     95.000000   73.000000\n"
          ]
        }
      ]
    },
    {
      "cell_type": "markdown",
      "source": [
        "## Display the first 3 rows of the max temps columns using 2 different methods. Assign each to a different variable and use print( ) to display."
      ],
      "metadata": {
        "id": "a4Xo0_PewuEs"
      }
    },
    {
      "cell_type": "code",
      "source": [
        "from pandas.io.formats.style_render import DataFrame as df\n",
        "# df.iloc[[rowstart:rowstop], [col1]] for integer selection; \n",
        "# stop is exclusive due to zero indexing\n",
        "# df.loc[[rowstart:rowstop], [col1]] for label selection; \n",
        "# stop is inclusive\n",
        "\n",
        "loc = weather_df.loc[0:2, ['tmax']]\n",
        "\n",
        "iloc = weather_df.iloc[0:3, [1]]\n",
        "\n",
        "print(loc)\n",
        "print()\n",
        "print(iloc)"
      ],
      "metadata": {
        "id": "gC9RsJo3xJ9N",
        "colab": {
          "base_uri": "https://localhost:8080/"
        },
        "outputId": "6fe110c2-c146-48c0-d9eb-9e744917dcc7"
      },
      "execution_count": 9,
      "outputs": [
        {
          "output_type": "stream",
          "name": "stdout",
          "text": [
            "   tmax\n",
            "0  32.0\n",
            "1  24.1\n",
            "2  23.0\n",
            "\n",
            "   tmax\n",
            "0  32.0\n",
            "1  24.1\n",
            "2  23.0\n"
          ]
        }
      ]
    },
    {
      "cell_type": "markdown",
      "source": [
        "## ## Display the rows 10, 100, 200, and 365 of the date and min temps columns using 2 different methods. Assign each to a different variable and use print( ) to display."
      ],
      "metadata": {
        "id": "1AB5oGWFxKlL"
      }
    },
    {
      "cell_type": "code",
      "source": [
        "# df.iloc[[row1, row2, ...], [col1, col2, ...]] for integer selection; \n",
        "# stop is exclusive due to zero indexing\n",
        "# df.loc[[row1, row2, ...], [col1, col2, ...]] for label selection; \n",
        "# stop is inclusive\n",
        "\n",
        "iloc = weather_df.iloc[[10, 100, 200, 364], [0, 2]]\n",
        "loc = weather_df.loc[[10, 100, 200, 364], ['dates', 'tmin']]\n",
        "\n",
        "print(iloc)\n",
        "print()\n",
        "print(loc)"
      ],
      "metadata": {
        "id": "ip1IgCTmycji",
        "colab": {
          "base_uri": "https://localhost:8080/"
        },
        "outputId": "c19d9138-4b5d-473a-80ec-d31505448f70"
      },
      "execution_count": 10,
      "outputs": [
        {
          "output_type": "stream",
          "name": "stdout",
          "text": [
            "          dates  tmin\n",
            "10   01/11/2013  19.0\n",
            "100  04/11/2013  39.9\n",
            "200  07/20/2013  70.0\n",
            "364  12/31/2013   1.2\n",
            "\n",
            "          dates  tmin\n",
            "10   01/11/2013  19.0\n",
            "100  04/11/2013  39.9\n",
            "200  07/20/2013  70.0\n",
            "364  12/31/2013   1.2\n"
          ]
        }
      ]
    },
    {
      "cell_type": "markdown",
      "source": [
        "## Select only the rows where the max temps are greater than 90. Assign this to a variable"
      ],
      "metadata": {
        "id": "rIs0ZfXPzRu1"
      }
    },
    {
      "cell_type": "code",
      "source": [
        "# df.loc[df[col] condition]\n",
        "\n",
        "max_temps = weather_df.loc[weather_df['tmax'] > 90]\n",
        "\n",
        "print(max_temps)"
      ],
      "metadata": {
        "id": "0UiFhgIAzTL5",
        "colab": {
          "base_uri": "https://localhost:8080/"
        },
        "outputId": "f176cd99-ed39-4207-abff-d304fced39e0"
      },
      "execution_count": 11,
      "outputs": [
        {
          "output_type": "stream",
          "name": "stdout",
          "text": [
            "          dates  tmax  tmin\n",
            "150  05/31/2013  91.9  57.9\n",
            "174  06/24/2013  91.9  66.9\n",
            "175  06/25/2013  91.0  69.1\n",
            "185  07/05/2013  93.0  73.0\n",
            "195  07/15/2013  91.0  70.0\n",
            "199  07/19/2013  95.0  69.1\n",
            "200  07/20/2013  91.0  70.0\n",
            "253  09/11/2013  93.0  61.0\n"
          ]
        }
      ]
    },
    {
      "cell_type": "markdown",
      "source": [
        "## Using the dataframe (assigned to a variable) from the previous cell, get just the dates where the temperature was greater than 90.  Convert to a Python list."
      ],
      "metadata": {
        "id": "0x7IkNYJ1U9q"
      }
    },
    {
      "cell_type": "code",
      "source": [
        "# df[col]\n",
        "max_temp_dates = max_temps['dates']\n",
        "\n",
        "print(max_temp_dates)"
      ],
      "metadata": {
        "id": "h3MlpDf-17kD",
        "colab": {
          "base_uri": "https://localhost:8080/"
        },
        "outputId": "a49d9839-9e46-42ff-a351-87692a062d56"
      },
      "execution_count": 12,
      "outputs": [
        {
          "output_type": "stream",
          "name": "stdout",
          "text": [
            "150    05/31/2013\n",
            "174    06/24/2013\n",
            "175    06/25/2013\n",
            "185    07/05/2013\n",
            "195    07/15/2013\n",
            "199    07/19/2013\n",
            "200    07/20/2013\n",
            "253    09/11/2013\n",
            "Name: dates, dtype: object\n"
          ]
        }
      ]
    },
    {
      "cell_type": "markdown",
      "source": [
        "## Convert to a Python list"
      ],
      "metadata": {
        "id": "eeMvbTq-2dG0"
      }
    },
    {
      "cell_type": "code",
      "source": [
        "# df.tolist()\n",
        "tmax_list = max_temp_dates.tolist()\n",
        "\n",
        "print(tmax_list)"
      ],
      "metadata": {
        "id": "iyJIV9P-2g0s",
        "colab": {
          "base_uri": "https://localhost:8080/"
        },
        "outputId": "7bb8fbea-a05e-43c3-d4ef-cb84aab24b34"
      },
      "execution_count": 13,
      "outputs": [
        {
          "output_type": "stream",
          "name": "stdout",
          "text": [
            "['05/31/2013', '06/24/2013', '06/25/2013', '07/05/2013', '07/15/2013', '07/19/2013', '07/20/2013', '09/11/2013']\n"
          ]
        }
      ]
    },
    {
      "cell_type": "markdown",
      "source": [
        "# Plot Weather Data\n",
        "\n",
        "Plot the days of the year where the minimum temperature greater than 40 degrees."
      ],
      "metadata": {
        "id": "Lv9Hj1LM23Qt"
      }
    },
    {
      "cell_type": "code",
      "source": [
        "from matplotlib import pyplot as plt\n",
        "\n",
        "items_below_10 = weather_df.loc[weather_df['tmin'] < 10]\n",
        "\n",
        "min_temp_dates = items_below_10['dates'].tolist()\n",
        "\n",
        "tmin_list = items_below_10['tmin'].tolist()\n",
        "\n",
        "plt.title('Days when min temp is below 10 degrees F')\n",
        "plt.scatter(min_temp_dates, tmin_list)\n",
        "plt.xticks(rotation=60)\n",
        "plt.show"
      ],
      "metadata": {
        "id": "ue9u_1xD3vKg",
        "colab": {
          "base_uri": "https://localhost:8080/",
          "height": 343
        },
        "outputId": "555f7f25-2d8e-42ca-b762-c1bbe64cdc18"
      },
      "execution_count": 14,
      "outputs": [
        {
          "output_type": "execute_result",
          "data": {
            "text/plain": [
              "<function matplotlib.pyplot.show(*args, **kw)>"
            ]
          },
          "metadata": {},
          "execution_count": 14
        },
        {
          "output_type": "display_data",
          "data": {
            "text/plain": [
              "<Figure size 432x288 with 1 Axes>"
            ],
            "image/png": "[encoded data removed]"
          },
          "metadata": {
            "needs_background": "light"
          }
        }
      ]
    }
  ]
}