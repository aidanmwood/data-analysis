{
  "nbformat": 4,
  "nbformat_minor": 0,
  "metadata": {
    "colab": {
      "provenance": [],
      "authorship_tag": "ABX9TyNtF9Kz4YlNfRIR0iQSi7bj",
      "include_colab_link": true
    },
    "kernelspec": {
      "name": "python3",
      "display_name": "Python 3"
    },
    "language_info": {
      "name": "python"
    }
  },
  "cells": [
    {
      "cell_type": "markdown",
      "metadata": {
        "id": "view-in-github",
        "colab_type": "text"
      },
      "source": [
        "<a href=\"https://colab.research.google.com/github/aidanmwood/data-analysis/blob/main/QuadFit.ipynb\" target=\"_parent\"><img src=\"https://colab.research.google.com/assets/colab-badge.svg\" alt=\"Open In Colab\"/></a>"
      ]
    },
    {
      "cell_type": "markdown",
      "source": [
        "Write a function that takes as input two lists of numeric data and computes the least squares\n",
        "\n",
        "coefficients for a quadratic fit of the data. You will need to form the 3X3 matrix and the 3X1 column vector shown\n",
        "and on the previous slide. Use the same function that you used before when performing a linear least squares fit\n",
        "to invert the matrix and multiple the column vector. Use the data below to test your function.\n",
        "\n",
        "Write a function that plots the set of points used for the fit, the least squares fit and the error bars\n",
        "based on the fit residuals. Use the data below to test your code. Approximate values for the least squares\n",
        "quadratic coefficients and a figure showing what the plot should look like are provided below."
      ],
      "metadata": {
        "id": "w4VcqJvjt8Hz"
      }
    },
    {
      "cell_type": "code",
      "execution_count": 22,
      "metadata": {
        "id": "KKI9v-ZGt2ji",
        "colab": {
          "base_uri": "https://localhost:8080/",
          "height": 312
        },
        "outputId": "abbfa401-e327-4052-ec06-c5979c397aa3"
      },
      "outputs": [
        {
          "output_type": "display_data",
          "data": {
            "text/plain": [
              "<Figure size 432x288 with 1 Axes>"
            ],
            "image/png": "[encoded data removed]"
          },
          "metadata": {
            "needs_background": "light"
          }
        },
        {
          "output_type": "stream",
          "name": "stdout",
          "text": [
            "\n"
          ]
        }
      ],
      "source": [
        "# Imports\n",
        "import numpy as np\n",
        "import matplotlib.pyplot as plt\n",
        "import math\n",
        "\n",
        "# Test data sets\n",
        "x = [-1.0,0.0,1.0,2.0,3.0,4.0,5.0,6.0]\n",
        "y = [10.0,6.0,2.0,1.0,0.0,2.0,4.0,7.0]\n",
        "\n",
        "# Calculates the LS coefficients for quadratic fit\n",
        "def quad_fit(x, y):\n",
        "  # Sums the x and y lists\n",
        "  sumx = sum(x)\n",
        "  sumy = sum(y)\n",
        "\n",
        "  # Creates empty lists\n",
        "  x2 = []\n",
        "  x3 = []\n",
        "  x4 = []\n",
        "  yx = []\n",
        "  yx2 = []\n",
        "\n",
        "  # adds appropriate values to some of the lists\n",
        "  for i in x:\n",
        "    x2.append(i**2)\n",
        "    x3.append(i**3)\n",
        "    x4.append(i**4)\n",
        "\n",
        "  # adds appropriate vals to other lists\n",
        "  for i in range(len(x)):\n",
        "    yx2.append(y[i]*(x[i]**2))\n",
        "    yx.append(y[i]*x[i])\n",
        "\n",
        "  # finds sum of the newly filled lists\n",
        "  sumx2 = sum(x2)\n",
        "  sumx3 = sum(x3)\n",
        "  sumx4 = sum(x4)\n",
        "  sumyx2 = sum(yx2)\n",
        "  sumyx = sum(yx)\n",
        "\n",
        "  # Creates the matricies\n",
        "  mat3x3 = [[sumx4, sumx3, sumx2], [sumx3, sumx2, sumx], [sumx2, sumx, len(x)]]\n",
        "  mat1x3 = [[sumyx2], [sumyx], [sumy]]\n",
        "\n",
        "  # Computes the coefficients\n",
        "  mat_inv = np.linalg.inv(mat3x3)\n",
        "  coeffs = np.matmul(mat_inv, mat1x3)\n",
        "\n",
        "  return coeffs\n",
        "\n",
        "# # Computes the residuals, residual mean, and residual standard deviation\n",
        "def residuals(x, y, coeffs):\n",
        "  res = []\n",
        "\n",
        "  for i in range(len(x)):\n",
        "    i_res = y[i] - (coeffs[0][0] * x[i]**2 + coeffs[1][0]*x[i] + coeffs[2][0])\n",
        "   \n",
        "    res.append(i_res)\n",
        "  res_mean = mean(res)\n",
        "  res_std = stand_dev(res)\n",
        "\n",
        "  return res, res_mean, res_std\n",
        "\n",
        "# mean\n",
        "def mean(data):\n",
        "  data_sum = sum(data)\n",
        "  return data_sum / len(data)\n",
        "\n",
        "# Standard Deviation\n",
        "def stand_dev(data):\n",
        "  return math.sqrt(variance(data))\n",
        "\n",
        "# variance\n",
        "def variance(data):\n",
        "  sqr_data = []\n",
        "\n",
        "  for val in data:\n",
        "    sqr_data.append(val**2)\n",
        "\n",
        "  variance = 1/len(data) * sum(sqr_data) - (1/len(data) * sum(data))**2\n",
        "  return variance\n",
        "\n",
        "def best_fit_line(x, y, coeffs):\n",
        "  x1 = min(x)\n",
        "  y1 = coeffs[0][0] * x1 + coeffs[1][0]\n",
        "  x2 = max(x)\n",
        "  y2 = coeffs[0][0] * x2 + coeffs[1][0]\n",
        "\n",
        "  x_vals = [x1, x2]\n",
        "  y_vals = [y1, y2]\n",
        "\n",
        "  return x_vals, y_vals\n",
        "\n",
        "def plot_data_and_fit(x, y, coeffs, lower_bound, upper_bound):\n",
        "  x_vals, y_vals = best_fit_line(x, y, coeffs)\n",
        "  \n",
        "  plt.plot(x, y, 'x')\n",
        "  plt.plot(x_vals, [y_vals[0]+upper_bound, y_vals[1]+upper_bound], '--')\n",
        "  plt.plot(x_vals, [y_vals[0]+lower_bound, y_vals[1]+lower_bound], '--')\n",
        "  plt.plot(x_vals, y_vals)\n",
        "\n",
        "#  graphs the quadratic fit\n",
        "def quad_fit_graph(x, y, x_label, y_label, title, ifit):\n",
        "  # Gets the LS coefficients from the quad_fit function\n",
        "  coeffs = quad_fit(x, y)\n",
        "  res, res_mean, res_std = residuals(x, y, coeffs)\n",
        "\n",
        "  ndevs = 2\n",
        "  lb_constant = res_mean - ndevs*res_std\n",
        "  ub_constant = res_mean + ndevs*res_std\n",
        "\n",
        "  i = min(x)\n",
        "\n",
        "  while i < max(x):\n",
        "    x1 = i\n",
        "    y1 = coeffs[0][0]*x1**2 + coeffs[1][0]*x1 + coeffs[2][0]\n",
        "\n",
        "    x2 = i + .1\n",
        "    y2 = coeffs[0][0]*x2**2 + coeffs[1][0]*x2 + coeffs[2][0]\n",
        "\n",
        "    plt.plot([x1, x2], [y1, y2], \"-r\")\n",
        "    plt.plot([x1, x2], [y1 + lb_constant, y2 + lb_constant], \"--g\")\n",
        "    plt.plot([x1, x2], [y1 + ub_constant, y2 + ub_constant], \"--g\")\n",
        "\n",
        "    i = x2\n",
        "\n",
        "  plt.xlabel(x_label)\n",
        "  plt.ylabel(y_label)\n",
        "  plt.title(title)\n",
        "  plt.plot(x, y, 'ob')\n",
        "  plt.show()\n",
        "\n",
        "quad_fit_graph(x, y, 'x label', 'y label', 'title', 1)\n",
        "print()"
      ]
    }
  ]
}